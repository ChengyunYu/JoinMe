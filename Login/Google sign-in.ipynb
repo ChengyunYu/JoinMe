{
 "cells": [
  {
   "cell_type": "code",
   "execution_count": 2,
   "metadata": {},
   "outputs": [],
   "source": [
    "import urllib.request\n",
    "import json\n",
    "\n",
    "CLIENT_ID = '598286698175-p70duqie28sr5u3ubcub8cbehoj3qqrs.apps.googleusercontent.com'\n",
    "\n",
    "data = 'client_id=' + CLIENT_ID + '&scope=email profile'\n",
    "data = str.encode(data)\n",
    "url = 'https://accounts.google.com/o/oauth2/device/code'\n",
    "response = urllib.request.urlopen(url, data = data)\n",
    "re_str = response.read().decode('utf8')"
   ]
  },
  {
   "cell_type": "code",
   "execution_count": 3,
   "metadata": {},
   "outputs": [
    {
     "name": "stdout",
     "output_type": "stream",
     "text": [
      "{\n",
      "  \"device_code\": \"AH-1Ng3D35tmErcAZ0A86z6WyEkYrVuRildYS3xrtgxHTwgdcgL5r3de4FbTUNRchs7gPQfHFqjhfq1QSzggE9QQC3N1r-WM1w\",\n",
      "  \"user_code\": \"LGDZ-TQQY\",\n",
      "  \"expires_in\": 1800,\n",
      "  \"interval\": 5,\n",
      "  \"verification_url\": \"https://www.google.com/device\"\n",
      "}\n"
     ]
    }
   ],
   "source": [
    "re_dic = json.loads(re_str)\n",
    "\n",
    "# print(re_dic)\n",
    "print(re_str)\n",
    "# print(type(re_dic))\n",
    "verification_url = re_dic['verification_url']\n",
    "user_code = re_dic['user_code']\n",
    "device_code = re_dic['device_code']"
   ]
  },
  {
   "cell_type": "code",
   "execution_count": 4,
   "metadata": {},
   "outputs": [],
   "source": [
    "CLIENT_SECRET = 'tyGQzGv_nQYBaZ7MhcQyq5Gy'\n",
    "data = 'client_id='+ CLIENT_ID + '&client_secret=' + CLIENT_SECRET + '&code=' + device_code + '&grant_type=http://oauth.net/grant_type/device/1.0'\n",
    "url = 'https://www.googleapis.com/oauth2/v4/token'\n",
    "data = str.encode(data)\n",
    "response = urllib.request.urlopen(url, data = data)\n",
    "re_str = response.read().decode('utf8')"
   ]
  },
  {
   "cell_type": "code",
   "execution_count": 5,
   "metadata": {},
   "outputs": [
    {
     "name": "stdout",
     "output_type": "stream",
     "text": [
      "{\n",
      "  \"access_token\": \"ya29.GltFBu4VHYq8f4gWW3jdNaseXQlJEa-yHQ38vNiAL65UkHGn0NDm8Pie0ePT-uvkPZAHyXgqPo6OWumUf5Dzj2FLVOyG5IBTQYawufyt7Sr-ZZGMPTIsHft-rKOQ\",\n",
      "  \"expires_in\": 3600,\n",
      "  \"refresh_token\": \"1/pOO0L0HH0lfPfBYXZ87y4ju2NSjgFBl8rS_8NhLKs_g\",\n",
      "  \"scope\": \"https://www.googleapis.com/auth/userinfo.profile https://www.googleapis.com/auth/userinfo.email\",\n",
      "  \"token_type\": \"Bearer\",\n",
      "  \"id_token\": \"eyJhbGciOiJSUzI1NiIsImtpZCI6IjgyODlkNTQyODBiNzY3MTJkZTQxY2QyZWY5NTk3MmIxMjNiZTlhYzAiLCJ0eXAiOiJKV1QifQ.eyJpc3MiOiJodHRwczovL2FjY291bnRzLmdvb2dsZS5jb20iLCJhenAiOiI1OTgyODY2OTgxNzUtcDcwZHVxaWUyOHNyNXUzdWJjdWI4Y2JlaG9qM3FxcnMuYXBwcy5nb29nbGV1c2VyY29udGVudC5jb20iLCJhdWQiOiI1OTgyODY2OTgxNzUtcDcwZHVxaWUyOHNyNXUzdWJjdWI4Y2JlaG9qM3FxcnMuYXBwcy5nb29nbGV1c2VyY29udGVudC5jb20iLCJzdWIiOiIxMDAyMTYwNjU5Nzc5OTg2NjE2NjYiLCJlbWFpbCI6IjE5OTUxMXpjQGdtYWlsLmNvbSIsImVtYWlsX3ZlcmlmaWVkIjp0cnVlLCJhdF9oYXNoIjoiV2Q2TXJhVWFxRFBVNzF6OHZVLXNxQSIsIm5hbWUiOiJjaGkgemhhbmciLCJwaWN0dXJlIjoiaHR0cHM6Ly9saDUuZ29vZ2xldXNlcmNvbnRlbnQuY29tLy1uOVBtMXo5ejkwQS9BQUFBQUFBQUFBSS9BQUFBQUFBQUFBQS9BQnRObGJCUlFWVE5SMFBkdTBBZ0gwbVJyWkxtcGxiMGlnL3M5Ni1jL3Bob3RvLmpwZyIsImdpdmVuX25hbWUiOiJjaGkiLCJmYW1pbHlfbmFtZSI6InpoYW5nIiwibG9jYWxlIjoiemgtQ04iLCJpYXQiOjE1NDA4Mzc1ODcsImV4cCI6MTU0MDg0MTE4N30.hNbl75ueIhSgDN-q8kvRWWm56ebBT1PUe2bBlCXPTpnFel0z307ZFWxXyNxJzljyPW09U4gPLS4MG3Fxn1Hb2-2UHNqbvOI3TGoea4wsDTDi9T90Z7Cq4tJJqq05Q7UXyjA7676dZLpNr_QQNrsL1D-FAqcP55HhAp5J3QiFProAJ-aFH5nRafvlShnIGNhABe7dqTzXHt3TUsIvxufcb5HJxNEZ_WhPyNRjeyT5V-_HIBAoqz-CHs-vdC8KZOgefVXxaO1t56AGligjUCypXzN5gnrAAKlQ23blaEoDBHbigTMJYw9lFTZkiaK4TDzJQifM942C6d33I35FI6nilQ\"\n",
      "}\n"
     ]
    }
   ],
   "source": [
    "print(re_str)\n",
    "re_dic = json.loads(re_str)\n",
    "id_token = re_dic['id_token']"
   ]
  },
  {
   "cell_type": "code",
   "execution_count": 6,
   "metadata": {},
   "outputs": [
    {
     "name": "stdout",
     "output_type": "stream",
     "text": [
      "{'iss': 'https://accounts.google.com', 'azp': '598286698175-p70duqie28sr5u3ubcub8cbehoj3qqrs.apps.googleusercontent.com', 'aud': '598286698175-p70duqie28sr5u3ubcub8cbehoj3qqrs.apps.googleusercontent.com', 'sub': '100216065977998661666', 'email': '199511zc@gmail.com', 'email_verified': True, 'at_hash': 'Wd6MraUaqDPU71z8vU-sqA', 'name': 'chi zhang', 'picture': 'https://lh5.googleusercontent.com/-n9Pm1z9z90A/AAAAAAAAAAI/AAAAAAAAAAA/ABtNlbBRQVTNR0Pdu0AgH0mRrZLmplb0ig/s96-c/photo.jpg', 'given_name': 'chi', 'family_name': 'zhang', 'locale': 'zh-CN', 'iat': 1540837587, 'exp': 1540841187}\n"
     ]
    }
   ],
   "source": [
    "import jwt\n",
    "\n",
    "user_profile = jwt.decode(id_token, verify=False)\n",
    "print(user_profile)\n",
    "user_email = user_profile['email']\n",
    "user_name = user_profile['name']\n",
    "user_local = user_profile['locale']\n",
    "# jwt.get_unverified_header(id_token)"
   ]
  },
  {
   "cell_type": "code",
   "execution_count": null,
   "metadata": {},
   "outputs": [],
   "source": []
  }
 ],
 "metadata": {
  "kernelspec": {
   "display_name": "Python 3",
   "language": "python",
   "name": "python3"
  },
  "language_info": {
   "codemirror_mode": {
    "name": "ipython",
    "version": 3
   },
   "file_extension": ".py",
   "mimetype": "text/x-python",
   "name": "python",
   "nbconvert_exporter": "python",
   "pygments_lexer": "ipython3",
   "version": "3.6.5"
  }
 },
 "nbformat": 4,
 "nbformat_minor": 2
}
