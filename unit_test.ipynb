{
 "cells": [
  {
   "cell_type": "code",
   "execution_count": null,
   "metadata": {},
   "outputs": [],
   "source": [
    "import unittest\n",
    "\n",
    "# The class we want to test\n",
    "import Model.EventModel as EventModel\n",
    "import Model.UserModel as UserModel\n",
    "import Controller.EventController as EventController\n",
    "import Controller.UserController as UserController\n",
    "\n",
    "class Test(unittest.TestCase):\n",
    "    date = '2018-10-31'\n",
    "    event_1 = EventModel(1, 'event_title_1', 'tags_1', 'description_1', 'image_1', [], [], date, 'location_1', '5')\n",
    "    user_1 = UserModel(1, 'real_name_1', 'nickname_1', 'gender_1', 'email_1', 'location_1', 'tags_1', 'description_1', [], [])\n",
    "    # test event model\n",
    "    def test_post_event(self):\n",
    "        event_id_1 = EventController.post_event(user_1, event_1)\n",
    "        self.assertIsNotNone(event_id_1)\n",
    "        \n",
    "    def test_edit_event(self):\n",
    "    \n",
    "    def test_expire:\n",
    "        \n",
    "    def test_remove_user:\n",
    "        \n",
    "    def test_join_event:\n",
    "    \n",
    "    def test_host_event:\n",
    "    \n",
    "    def test_hosted_event:\n",
    "        \n",
    "    def test_get_hosted_event:\n",
    "        \n",
    "    # test user model\n",
    "    def test_add_user(self):\n",
    "        UserController.delete_user('nick_name_1', 'email_1')\n",
    "        self.assertEqual(UserController.add_user(user_1), 'SUCCESS')\n",
    "        self.assertEqual(UserController.add_user(user_1), 'DUPLICATE')\n",
    "        \n",
    "    def test_delete_user(self):\n",
    "        self.assertEqual(UserController.delete_user('nick_name_1', 'email_1'), 'SUCCESS')\n",
    "        self.assertEqual(UserController.delete_user('fake_nick_name_1', 'fake_email_1'), 'SUCCESS')\n",
    "        \n",
    "    def test_edit_user:\n",
    "        \n",
    "        \n",
    "    def test_retrieve_user:\n",
    "        \n",
    "    "
   ]
  }
 ],
 "metadata": {
  "kernelspec": {
   "display_name": "Python 3",
   "language": "python",
   "name": "python3"
  },
  "language_info": {
   "codemirror_mode": {
    "name": "ipython",
    "version": 3
   },
   "file_extension": ".py",
   "mimetype": "text/x-python",
   "name": "python",
   "nbconvert_exporter": "python",
   "pygments_lexer": "ipython3",
   "version": "3.6.5"
  }
 },
 "nbformat": 4,
 "nbformat_minor": 2
}
